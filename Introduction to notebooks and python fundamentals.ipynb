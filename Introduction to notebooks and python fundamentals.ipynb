{
 "cells": [
  {
   "cell_type": "markdown",
   "metadata": {},
   "source": [
    "# Introduction to notebooks\n"
   ]
  },
  {
   "cell_type": "markdown",
   "metadata": {},
   "source": [
    "Notebooks are handy when exploring datasets and prototyping. \n",
    "\n",
    "You can comment along the way by changing the element type to markdown. Then you are free to make comments and write about the project. \n",
    "\n",
    "Seach for Markdown Cheatsheet or click [Here](https://github.com/adam-p/markdown-here/wiki/Markdown-Cheatsheet) if you want nice examples of how to style your comments."
   ]
  },
  {
   "cell_type": "markdown",
   "metadata": {},
   "source": [
    "## Importing libraries\n"
   ]
  },
  {
   "cell_type": "code",
   "execution_count": 1,
   "metadata": {},
   "outputs": [],
   "source": [
    "%matplotlib inline\n",
    "import numpy as np\n",
    "import pandas as pd\n",
    "import time as ti\n",
    "\n",
    "from matplotlib import pyplot as plt"
   ]
  },
  {
   "cell_type": "markdown",
   "metadata": {
    "collapsed": true
   },
   "source": [
    "# List, dicts and tuples\n",
    "List, tuples and dictionaries are commonly used classes when working with python."
   ]
  },
  {
   "cell_type": "markdown",
   "metadata": {},
   "source": [
    "## Lists"
   ]
  },
  {
   "cell_type": "code",
   "execution_count": 2,
   "metadata": {},
   "outputs": [
    {
     "name": "stdout",
     "output_type": "stream",
     "text": [
      "[1, 2, 'a']\n",
      "First element:  1\n",
      "First element from end:  a\n",
      "Type of l: <class 'list'>\n",
      "Methods available in the list class: ['append', 'clear', 'copy', 'count', 'extend', 'index', 'insert', 'pop', 'remove', 'reverse', 'sort']\n",
      "[1, 3, 'a', [0], 1]\n",
      "Counted 1 in l: 2\n",
      "1\n",
      "3\n",
      "a\n",
      "[0]\n",
      "1\n",
      "3\n",
      "[1, 3, 'a', [0], 1]\n",
      "List is changed, integer is not: [7, 3, 'a', [0], 1] 3\n"
     ]
    }
   ],
   "source": [
    "l = [1,2,'a']\n",
    "print(l)\n",
    "\n",
    "# Python starts to count from 0\n",
    "print('First element: ' , l[0])\n",
    "\n",
    "# Last element in a list can be reached as element -1\n",
    "print('First element from end: ' , l[-1])\n",
    "\n",
    "#The second element in a list can be replaced by\n",
    "l[1] = 3\n",
    "\n",
    "# List is an object with a lot of methods\n",
    "print('Type of l:',type(l))\n",
    "print('Methods available in the list class:',[ list_methods for list_methods in dir(l) if not list_methods.startswith('__')])\n",
    "\n",
    "# We can add stuff to the end of the list with the append method \n",
    "l.append([0])\n",
    "l.append(1)\n",
    "print(l)\n",
    "print('Counted 1 in l: %d'%(l.count(1)))\n",
    "# We can loop over lists\n",
    "for value in l:\n",
    "    print(value)\n",
    "\n",
    "\n",
    "# But lists might be tricky, sometimes the memory reference i passed to the function, sometimes a copy of the value\n",
    "def f(a_list, a):\n",
    "    a_list[0] = 7\n",
    "    a = 4\n",
    "    return 1\n",
    "a = 3\n",
    "print(a)\n",
    "print(l)\n",
    "\n",
    "f(l,a)\n",
    "print('List is changed, integer is not:',l,a)"
   ]
  },
  {
   "cell_type": "markdown",
   "metadata": {},
   "source": [
    "## Tuples"
   ]
  },
  {
   "cell_type": "markdown",
   "metadata": {},
   "source": [
    "Tuples are immutable lists that lacks some of the methods of lists. Therefore they become a little more efficient"
   ]
  },
  {
   "cell_type": "code",
   "execution_count": 3,
   "metadata": {},
   "outputs": [
    {
     "name": "stdout",
     "output_type": "stream",
     "text": [
      "<class 'tuple'>\n",
      "Methods available in the tuple class: ['count', 'index']\n",
      "1\n",
      "First element in tuple: a\n",
      "0\n",
      "You are not allowed to change tuples\n"
     ]
    }
   ],
   "source": [
    "t = ('a','b',3)\n",
    "print(type(t))\n",
    "print('Methods available in the tuple class:',[ tuple_methods for tuple_methods in dir(t) if not tuple_methods.startswith('__')])\n",
    "print(t.count('a'))\n",
    "print('First element in tuple:',t[0])\n",
    "print(t.index('a'))\n",
    "try:\n",
    "    t[0]=1\n",
    "except:\n",
    "    print('You are not allowed to change tuples')\n"
   ]
  },
  {
   "cell_type": "code",
   "execution_count": 4,
   "metadata": {},
   "outputs": [
    {
     "name": "stdout",
     "output_type": "stream",
     "text": [
      "{'Erik': {'age': 19, 'sex': 'm'}, 'Sven': {'age': 25, 'sex': 'm'}, 'Anna': {'age': 25, 'sex': 'f'}, 'Sara': {'age': 25, 'sex': 'f'}}\n",
      "Erik {'age': 19, 'sex': 'm'} 19\n",
      "Sven {'age': 25, 'sex': 'm'} 25\n",
      "Anna {'age': 25, 'sex': 'f'} 25\n",
      "Sara {'age': 25, 'sex': 'f'} 25\n",
      "Methods available in the dict class: ['clear', 'copy', 'fromkeys', 'get', 'items', 'keys', 'pop', 'popitem', 'setdefault', 'update', 'values']\n",
      "{'Sven': {'age': 25, 'sex': 'm'}, 'Anna': {'age': 25, 'sex': 'f'}, 'Sara': {'age': 25, 'sex': 'f'}, 'Pete': {'age': 36, 'sex': 'm'}}\n"
     ]
    }
   ],
   "source": [
    "# Dicts or dictionarys is another common python class that allows the variable to be a little more structured\n",
    "# Benefit is that an element can be accessed by a key\n",
    "persons={'Erik':{'age':19,'sex':'m'},\n",
    "        'Sven':{'age':25,'sex':'m'},\n",
    "        'Anna' :{'age':25, 'sex':'f'},\n",
    "        'Sara':{'age':25, 'sex':'f'}}\n",
    "print(persons)\n",
    "for key,item in persons.items():\n",
    "    print(key, item, item['age'])\n",
    "    \n",
    "print('Methods available in the dict class:',[ dict_methods for dict_methods in dir(persons) if not dict_methods.startswith('__')])\n",
    "# Items can be added to the dict as\n",
    "persons['Pete']={'age':36,'sex':'m'}\n",
    "\n",
    "# Deletad as \n",
    "persons.pop('Erik')\n",
    "print(persons)"
   ]
  },
  {
   "cell_type": "markdown",
   "metadata": {},
   "source": [
    "# Numpy"
   ]
  },
  {
   "cell_type": "markdown",
   "metadata": {},
   "source": [
    "Numpy is a library used to make python faster by offering a linear algebra package to python. In normal python operations on lists are not allowed and loops are neccesary. Loops that Python is famous for beeing slow at. \n",
    "\n",
    "The example below shows a speedup of 50 when iterating over a list.\n",
    "\n",
    "But numpy is more then just speedup. It makes life a lot easier when processing data. "
   ]
  },
  {
   "cell_type": "code",
   "execution_count": 5,
   "metadata": {},
   "outputs": [
    {
     "name": "stdout",
     "output_type": "stream",
     "text": [
      "73.7 ms ± 2.19 ms per loop (mean ± std. dev. of 7 runs, 5 loops each)\n",
      "2.27 ms ± 135 µs per loop (mean ± std. dev. of 7 runs, 50 loops each)\n"
     ]
    }
   ],
   "source": [
    "def pylistitteration(pl):\n",
    "    for i in range(len(pl)-1):\n",
    "        pl[i]*2\n",
    "    return pl\n",
    "\n",
    "def npitteration(nl):\n",
    "    nl*2\n",
    "    return nl\n",
    "\n",
    "py_list= list(range(1000000))\n",
    "%timeit -n 5 pylistitteration(py_list)\n",
    "np_list=np.arange(1000000)\n",
    "%timeit -n 50 npitteration(np_list)"
   ]
  },
  {
   "cell_type": "markdown",
   "metadata": {},
   "source": [
    "### Linear algebra\n",
    "Solve the linear system $Ax=b$ "
   ]
  },
  {
   "cell_type": "code",
   "execution_count": 6,
   "metadata": {},
   "outputs": [
    {
     "name": "stdout",
     "output_type": "stream",
     "text": [
      "[0.19495447 0.45709531 0.4274537  0.64027604 0.80932521]\n",
      "[-2.77230973 -0.48220697  0.86755817 -0.50803854  2.75870608]\n",
      "[-1.11022302e-16 -5.55111512e-17  3.33066907e-16  0.00000000e+00\n",
      "  0.00000000e+00]\n",
      "[-1.11022302e-16 -5.55111512e-17  3.33066907e-16  0.00000000e+00\n",
      "  0.00000000e+00]\n"
     ]
    }
   ],
   "source": [
    "A=np.random.random((5,5))\n",
    "b=np.random.random((5))\n",
    "print(b)\n",
    "x = np.linalg.solve(A,b)\n",
    "print(x)\n",
    "# Check the error\n",
    "print(np.matmul(A,x)-b)\n",
    "print(A@x-b)\n"
   ]
  },
  {
   "cell_type": "markdown",
   "metadata": {},
   "source": [
    "## Make a plot"
   ]
  },
  {
   "cell_type": "markdown",
   "metadata": {},
   "source": [
    "In the next steps we are going to visualize the function $y=3x^2+2x-0.5$"
   ]
  },
  {
   "cell_type": "code",
   "execution_count": 7,
   "metadata": {},
   "outputs": [
    {
     "data": {
      "image/png": "[encoded data removed]",
      "text/plain": [
       "<Figure size 432x288 with 1 Axes>"
      ]
     },
     "metadata": {
      "needs_background": "light"
     },
     "output_type": "display_data"
    }
   ],
   "source": [
    "# Create the functions\n",
    "x1 = np.arange(-10,10.01,5)\n",
    "y1 = x1**3 + 3*x1**2 - 0.5\n",
    "x2 = np.arange(-10,10.1,0.1)\n",
    "y2 = x2**3 + 3*x2**2 - 0.5\n",
    "\n",
    "plt.plot(x1,y1)\n",
    "plt.plot(x2,y2)\n",
    "plt.title(r'$y=3x^2+2x-0.5$')\n",
    "plt.show()"
   ]
  },
  {
   "cell_type": "markdown",
   "metadata": {},
   "source": [
    "# Pandas"
   ]
  },
  {
   "cell_type": "markdown",
   "metadata": {},
   "source": [
    "Pandas is a greate tool for working with data in the exploratroy phase of an AI/ML project. It wraps up some commonly used python packages working upon as an excel dokument. \n",
    "\n",
    "The following is a basic example that contains some lines that describes the basics and gets you started with pands"
   ]
  },
  {
   "cell_type": "code",
   "execution_count": 19,
   "metadata": {},
   "outputs": [
    {
     "name": "stdout",
     "output_type": "stream",
     "text": [
      "  serie  val1  val2  Test\n",
      "0     a  1.10  1.10   NaN\n",
      "1     a  1.30  1.30   NaN\n",
      "2     b  1.35  3.35   NaN\n",
      "3     b  1.10  4.10   NaN\n",
      "4     c  1.05  7.10   NaN\n",
      "5     c  1.10  7.90   NaN\n",
      "6     c  1.30  9.90   NaN\n"
     ]
    }
   ],
   "source": [
    "# Initialize a pandas dataframe\n",
    "df = pd.DataFrame({'serie':['a','a','b','b'],\n",
    "                   'val1': np.array([1.1,1.3,1.35,1.1]), \n",
    "                   'val2': np.array([1.1,1.3,3.35,4.1])},\n",
    "                   columns=['serie','val1', 'val2'])\n",
    "\n",
    "# Append data to the dataframe\n",
    "df = df.append(pd.DataFrame({'serie':['c','c','c'],'val1':np.array([1.05,1.1,1.3]),'val2':np.array([7.1,7.9,9.9])}),ignore_index=True)\n",
    "\n",
    "# Insert a column to the dataframe and set default value to nan\n",
    "df.insert(df.columns.size,'Test',np.nan)\n",
    "print(df)"
   ]
  },
  {
   "cell_type": "code",
   "execution_count": 9,
   "metadata": {},
   "outputs": [
    {
     "data": {
      "text/html": [
       "<div>\n",
       "<style scoped>\n",
       "    .dataframe tbody tr th:only-of-type {\n",
       "        vertical-align: middle;\n",
       "    }\n",
       "\n",
       "    .dataframe tbody tr th {\n",
       "        vertical-align: top;\n",
       "    }\n",
       "\n",
       "    .dataframe thead th {\n",
       "        text-align: right;\n",
       "    }\n",
       "</style>\n",
       "<table border=\"1\" class=\"dataframe\">\n",
       "  <thead>\n",
       "    <tr style=\"text-align: right;\">\n",
       "      <th></th>\n",
       "      <th>serie</th>\n",
       "      <th>val1</th>\n",
       "      <th>val2</th>\n",
       "      <th>Test</th>\n",
       "    </tr>\n",
       "  </thead>\n",
       "  <tbody>\n",
       "    <tr>\n",
       "      <th>0</th>\n",
       "      <td>a</td>\n",
       "      <td>1.10</td>\n",
       "      <td>1.10</td>\n",
       "      <td>0.0</td>\n",
       "    </tr>\n",
       "    <tr>\n",
       "      <th>1</th>\n",
       "      <td>a</td>\n",
       "      <td>1.30</td>\n",
       "      <td>1.30</td>\n",
       "      <td>0.0</td>\n",
       "    </tr>\n",
       "    <tr>\n",
       "      <th>2</th>\n",
       "      <td>b</td>\n",
       "      <td>1.35</td>\n",
       "      <td>3.35</td>\n",
       "      <td>0.0</td>\n",
       "    </tr>\n",
       "    <tr>\n",
       "      <th>3</th>\n",
       "      <td>b</td>\n",
       "      <td>1.10</td>\n",
       "      <td>4.10</td>\n",
       "      <td>0.0</td>\n",
       "    </tr>\n",
       "    <tr>\n",
       "      <th>4</th>\n",
       "      <td>c</td>\n",
       "      <td>1.05</td>\n",
       "      <td>7.10</td>\n",
       "      <td>1.3</td>\n",
       "    </tr>\n",
       "    <tr>\n",
       "      <th>5</th>\n",
       "      <td>c</td>\n",
       "      <td>1.10</td>\n",
       "      <td>7.90</td>\n",
       "      <td>0.9</td>\n",
       "    </tr>\n",
       "    <tr>\n",
       "      <th>6</th>\n",
       "      <td>c</td>\n",
       "      <td>1.30</td>\n",
       "      <td>9.90</td>\n",
       "      <td>0.5</td>\n",
       "    </tr>\n",
       "  </tbody>\n",
       "</table>\n",
       "</div>"
      ],
      "text/plain": [
       "  serie  val1  val2  Test\n",
       "0     a  1.10  1.10   0.0\n",
       "1     a  1.30  1.30   0.0\n",
       "2     b  1.35  3.35   0.0\n",
       "3     b  1.10  4.10   0.0\n",
       "4     c  1.05  7.10   1.3\n",
       "5     c  1.10  7.90   0.9\n",
       "6     c  1.30  9.90   0.5"
      ]
     },
     "execution_count": 9,
     "metadata": {},
     "output_type": "execute_result"
    }
   ],
   "source": [
    "# Set the values of Test columnt to 0\n",
    "df.Test=0\n",
    "df.loc[df.serie=='c','Test']=8*df.loc[df.serie=='c','val1']-df.loc[df.serie=='c','val2']\n",
    "df"
   ]
  },
  {
   "cell_type": "code",
   "execution_count": 10,
   "metadata": {},
   "outputs": [
    {
     "data": {
      "text/html": [
       "<div>\n",
       "<style scoped>\n",
       "    .dataframe tbody tr th:only-of-type {\n",
       "        vertical-align: middle;\n",
       "    }\n",
       "\n",
       "    .dataframe tbody tr th {\n",
       "        vertical-align: top;\n",
       "    }\n",
       "\n",
       "    .dataframe thead th {\n",
       "        text-align: right;\n",
       "    }\n",
       "</style>\n",
       "<table border=\"1\" class=\"dataframe\">\n",
       "  <thead>\n",
       "    <tr style=\"text-align: right;\">\n",
       "      <th></th>\n",
       "      <th>serie</th>\n",
       "      <th>val1</th>\n",
       "      <th>val2</th>\n",
       "      <th>Test</th>\n",
       "    </tr>\n",
       "  </thead>\n",
       "  <tbody>\n",
       "    <tr>\n",
       "      <th>0</th>\n",
       "      <td>1</td>\n",
       "      <td>1.10</td>\n",
       "      <td>1.10</td>\n",
       "      <td>0.0</td>\n",
       "    </tr>\n",
       "    <tr>\n",
       "      <th>1</th>\n",
       "      <td>1</td>\n",
       "      <td>1.30</td>\n",
       "      <td>1.30</td>\n",
       "      <td>0.0</td>\n",
       "    </tr>\n",
       "    <tr>\n",
       "      <th>2</th>\n",
       "      <td>1</td>\n",
       "      <td>1.35</td>\n",
       "      <td>3.35</td>\n",
       "      <td>0.0</td>\n",
       "    </tr>\n",
       "    <tr>\n",
       "      <th>3</th>\n",
       "      <td>1</td>\n",
       "      <td>1.10</td>\n",
       "      <td>4.10</td>\n",
       "      <td>0.0</td>\n",
       "    </tr>\n",
       "    <tr>\n",
       "      <th>4</th>\n",
       "      <td>1</td>\n",
       "      <td>1.05</td>\n",
       "      <td>7.10</td>\n",
       "      <td>1.3</td>\n",
       "    </tr>\n",
       "    <tr>\n",
       "      <th>5</th>\n",
       "      <td>1</td>\n",
       "      <td>1.10</td>\n",
       "      <td>7.90</td>\n",
       "      <td>0.9</td>\n",
       "    </tr>\n",
       "    <tr>\n",
       "      <th>6</th>\n",
       "      <td>1</td>\n",
       "      <td>1.30</td>\n",
       "      <td>9.90</td>\n",
       "      <td>0.5</td>\n",
       "    </tr>\n",
       "  </tbody>\n",
       "</table>\n",
       "</div>"
      ],
      "text/plain": [
       "   serie  val1  val2  Test\n",
       "0      1  1.10  1.10   0.0\n",
       "1      1  1.30  1.30   0.0\n",
       "2      1  1.35  3.35   0.0\n",
       "3      1  1.10  4.10   0.0\n",
       "4      1  1.05  7.10   1.3\n",
       "5      1  1.10  7.90   0.9\n",
       "6      1  1.30  9.90   0.5"
      ]
     },
     "execution_count": 10,
     "metadata": {},
     "output_type": "execute_result"
    }
   ],
   "source": [
    "# This cell shows the problem with a new variable being the memory pointer and not a new copy\n",
    "\n",
    "df_temp=df\n",
    "df_temp\n",
    "df_temp.serie=1\n",
    "df"
   ]
  },
  {
   "cell_type": "code",
   "execution_count": 11,
   "metadata": {},
   "outputs": [
    {
     "name": "stdout",
     "output_type": "stream",
     "text": [
      "   serie  val1  val2  Test\n",
      "0      1  1.10  1.10   0.0\n",
      "1      1  1.30  1.30   0.0\n",
      "2      1  1.35  3.35   0.0\n",
      "3      1  1.10  4.10   0.0\n",
      "4      1  1.05  7.10   1.3\n",
      "5      1  1.10  7.90   0.9\n",
      "6      1  1.30  9.90   0.5\n",
      "   serie  val1  val2  Test\n",
      "0      1     1  1.10   0.0\n",
      "1      1     1  1.30   0.0\n",
      "2      1     1  3.35   0.0\n",
      "3      1     1  4.10   0.0\n",
      "4      1     1  7.10   1.3\n",
      "5      1     1  7.90   0.9\n",
      "6      1     1  9.90   0.5\n"
     ]
    }
   ],
   "source": [
    "# Instead we must do a copy\n",
    "\n",
    "df_temp=df.copy()\n",
    "df_temp\n",
    "df_temp.val1=1\n",
    "print(df)\n",
    "print(df_temp)"
   ]
  },
  {
   "cell_type": "code",
   "execution_count": 20,
   "metadata": {},
   "outputs": [
    {
     "data": {
      "text/plain": [
       "<seaborn.axisgrid.PairGrid at 0x263c9024828>"
      ]
     },
     "execution_count": 20,
     "metadata": {},
     "output_type": "execute_result"
    },
    {
     "data": {
      "image/png": "[encoded data removed]",
      "text/plain": [
       "<Figure size 762.25x720 with 6 Axes>"
      ]
     },
     "metadata": {
      "needs_background": "light"
     },
     "output_type": "display_data"
    }
   ],
   "source": [
    "# Visualizing the data with seabourne\n",
    "import seaborn as sns\n",
    "sns.pairplot(vars=[\"val1\",\"val2\"], data=df, hue='serie', size=5)\n",
    "\n"
   ]
  },
  {
   "cell_type": "code",
   "execution_count": null,
   "metadata": {},
   "outputs": [],
   "source": []
  }
 ],
 "metadata": {
  "kernelspec": {
   "display_name": "Python 3",
   "language": "python",
   "name": "python3"
  },
  "language_info": {
   "codemirror_mode": {
    "name": "ipython",
    "version": 3
   },
   "file_extension": ".py",
   "mimetype": "text/x-python",
   "name": "python",
   "nbconvert_exporter": "python",
   "pygments_lexer": "ipython3",
   "version": "3.6.8"
  }
 },
 "nbformat": 4,
 "nbformat_minor": 1
}
